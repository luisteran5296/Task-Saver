{
 "cells": [
  {
   "cell_type": "code",
   "execution_count": 1,
   "metadata": {
    "ExecuteTime": {
     "end_time": "2020-12-23T03:14:07.584562Z",
     "start_time": "2020-12-23T03:14:00.810251Z"
    }
   },
   "outputs": [],
   "source": [
    "from selenium import webdriver\n",
    "from selenium.webdriver.common.keys import Keys\n",
    "from selenium.webdriver.common.by import By\n",
    "from selenium.webdriver.common.action_chains import ActionChains\n",
    "from selenium.webdriver.support.ui import WebDriverWait\n",
    "from selenium.webdriver.support import expected_conditions as EC\n",
    "from selenium.common.exceptions import NoSuchElementException \n",
    "import time\n",
    "import pandas as pd"
   ]
  },
  {
   "cell_type": "code",
   "execution_count": 5,
   "metadata": {
    "ExecuteTime": {
     "end_time": "2020-12-23T03:19:53.278634Z",
     "start_time": "2020-12-23T03:19:19.124390Z"
    }
   },
   "outputs": [],
   "source": [
    "usuario = \"luisteran5297@gmail.com\"\n",
    "cont = \"12345678\"\n",
    "path = 'C:\\Program Files (x86)\\chromedriver.exe'\n",
    "urlTodoist = 'https://todoist.com/es'\n",
    "urlRandom = 'https://randomtodolistgenerator.herokuapp.com/library'\n",
    "\n",
    "driver = webdriver.Chrome(path)\n",
    "driver.get(urlRandom)\n",
    "titulos = driver.find_elements_by_xpath(\"//div[@class='flexbox task-title']/div\")\n",
    "titulos = [elemento.text for elemento in titulos]\n",
    "duracion = driver.find_elements_by_xpath(\"//div[@class='flexbox task-title']/span\")\n",
    "duracion = [elemento.text for elemento in duracion]\n",
    "descripcion = driver.find_elements_by_class_name(\"card-text\")\n",
    "descripcion = [elemento.text for elemento in descripcion]\n",
    "\n",
    "driver.execute_script(\"window.open()\")\n",
    "driver.switch_to.window(driver.window_handles[1])\n",
    "driver.get(urlTodoist)\n",
    "time.sleep(2)\n",
    "\n",
    "search = driver.find_element_by_xpath(\"//div[@class='MTF3N _1lTj0']//ul[@class='_3XsmI']/li\")\n",
    "search.click()\n",
    "\n",
    "app = WebDriverWait(driver, 10).until(\n",
    "        EC.presence_of_element_located((By.CLASS_NAME, \"standalone_page__frame\"))\n",
    "    )\n",
    "search = app.find_element_by_id(\"email\")\n",
    "search.send_keys(usuario)\n",
    "search = app.find_element_by_id(\"password\")\n",
    "search.send_keys(cont)\n",
    "search.send_keys(Keys.RETURN)\n",
    "\n",
    "app = WebDriverWait(driver, 10).until(\n",
    "        EC.presence_of_element_located((By.ID, \"app_holder\"))\n",
    "    )\n",
    "\n",
    "for i in range(5):\n",
    "    if (i==0):\n",
    "        app.find_element_by_css_selector('.plus_add_button').click()    \n",
    "    actions = ActionChains(driver)\n",
    "    actions.send_keys(titulos[i])\n",
    "    actions.perform()\n",
    "    app.find_element_by_css_selector('[class=\"ist_button ist_button_red\"]').click()\n",
    "    time.sleep(2)"
   ]
  },
  {
   "cell_type": "code",
   "execution_count": 3,
   "metadata": {
    "ExecuteTime": {
     "end_time": "2020-12-23T03:16:17.719002Z",
     "start_time": "2020-12-23T03:16:17.588038Z"
    }
   },
   "outputs": [
    {
     "data": {
      "text/html": [
       "<div>\n",
       "<style scoped>\n",
       "    .dataframe tbody tr th:only-of-type {\n",
       "        vertical-align: middle;\n",
       "    }\n",
       "\n",
       "    .dataframe tbody tr th {\n",
       "        vertical-align: top;\n",
       "    }\n",
       "\n",
       "    .dataframe thead th {\n",
       "        text-align: right;\n",
       "    }\n",
       "</style>\n",
       "<table border=\"1\" class=\"dataframe\">\n",
       "  <thead>\n",
       "    <tr style=\"text-align: right;\">\n",
       "      <th></th>\n",
       "      <th>Titulos</th>\n",
       "      <th>Duracion</th>\n",
       "      <th>Descripcion</th>\n",
       "    </tr>\n",
       "  </thead>\n",
       "  <tbody>\n",
       "    <tr>\n",
       "      <td>0</td>\n",
       "      <td>Eat two kinds of vegetable</td>\n",
       "      <td>0.5hr</td>\n",
       "      <td>Fiber contained in vegetables can reduce the r...</td>\n",
       "    </tr>\n",
       "    <tr>\n",
       "      <td>1</td>\n",
       "      <td>No suger drink</td>\n",
       "      <td>0.5hr</td>\n",
       "      <td>Too much sugar intake has negative impact on h...</td>\n",
       "    </tr>\n",
       "    <tr>\n",
       "      <td>2</td>\n",
       "      <td>Eat fruits</td>\n",
       "      <td>0.5hr</td>\n",
       "      <td>Two bananas/apples size fruits, or four plum s...</td>\n",
       "    </tr>\n",
       "    <tr>\n",
       "      <td>3</td>\n",
       "      <td>Go for a walk</td>\n",
       "      <td>0.5hr</td>\n",
       "      <td>Heading north, go for a walk and enjoy the sur...</td>\n",
       "    </tr>\n",
       "    <tr>\n",
       "      <td>4</td>\n",
       "      <td>Go for a walk</td>\n",
       "      <td>0.5hr</td>\n",
       "      <td>Heading south, go for a walk and enjoy the sur...</td>\n",
       "    </tr>\n",
       "    <tr>\n",
       "      <td>5</td>\n",
       "      <td>Go for a walk</td>\n",
       "      <td>0.5hr</td>\n",
       "      <td>Heading east, go for a walk and enjoy the surr...</td>\n",
       "    </tr>\n",
       "  </tbody>\n",
       "</table>\n",
       "</div>"
      ],
      "text/plain": [
       "                      Titulos Duracion  \\\n",
       "0  Eat two kinds of vegetable    0.5hr   \n",
       "1              No suger drink    0.5hr   \n",
       "2                  Eat fruits    0.5hr   \n",
       "3               Go for a walk    0.5hr   \n",
       "4               Go for a walk    0.5hr   \n",
       "5               Go for a walk    0.5hr   \n",
       "\n",
       "                                         Descripcion  \n",
       "0  Fiber contained in vegetables can reduce the r...  \n",
       "1  Too much sugar intake has negative impact on h...  \n",
       "2  Two bananas/apples size fruits, or four plum s...  \n",
       "3  Heading north, go for a walk and enjoy the sur...  \n",
       "4  Heading south, go for a walk and enjoy the sur...  \n",
       "5  Heading east, go for a walk and enjoy the surr...  "
      ]
     },
     "execution_count": 3,
     "metadata": {},
     "output_type": "execute_result"
    }
   ],
   "source": [
    "tasks = pd.DataFrame({'Titulos':titulos, 'Duracion':duracion, 'Descripcion':descripcion})\n",
    "tasks"
   ]
  },
  {
   "cell_type": "code",
   "execution_count": null,
   "metadata": {},
   "outputs": [],
   "source": []
  }
 ],
 "metadata": {
  "kernelspec": {
   "display_name": "Python 3",
   "language": "python",
   "name": "python3"
  },
  "language_info": {
   "codemirror_mode": {
    "name": "ipython",
    "version": 3
   },
   "file_extension": ".py",
   "mimetype": "text/x-python",
   "name": "python",
   "nbconvert_exporter": "python",
   "pygments_lexer": "ipython3",
   "version": "3.7.4"
  },
  "varInspector": {
   "cols": {
    "lenName": 16,
    "lenType": 16,
    "lenVar": 40
   },
   "kernels_config": {
    "python": {
     "delete_cmd_postfix": "",
     "delete_cmd_prefix": "del ",
     "library": "var_list.py",
     "varRefreshCmd": "print(var_dic_list())"
    },
    "r": {
     "delete_cmd_postfix": ") ",
     "delete_cmd_prefix": "rm(",
     "library": "var_list.r",
     "varRefreshCmd": "cat(var_dic_list()) "
    }
   },
   "types_to_exclude": [
    "module",
    "function",
    "builtin_function_or_method",
    "instance",
    "_Feature"
   ],
   "window_display": false
  }
 },
 "nbformat": 4,
 "nbformat_minor": 2
}
